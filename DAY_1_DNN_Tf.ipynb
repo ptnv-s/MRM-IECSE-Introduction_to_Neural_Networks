{
  "nbformat": 4,
  "nbformat_minor": 0,
  "metadata": {
    "colab": {
      "name": "MRM+IECSE_DAY-1_DNN_TUTORIAL-2.ipynb",
      "provenance": [],
      "collapsed_sections": [],
      "authorship_tag": "ABX9TyPEDl3lUVsta6Bdy5lb+7A/",
      "include_colab_link": true
    },
    "kernelspec": {
      "name": "python3",
      "display_name": "Python 3"
    },
    "language_info": {
      "name": "python"
    }
  },
  "cells": [
    {
      "cell_type": "markdown",
      "metadata": {
        "id": "view-in-github",
        "colab_type": "text"
      },
      "source": [
        "<a href=\"https://colab.research.google.com/github/ptnv-s/MRM-IECSE-Introduction_to_Neural_Networks/blob/main/DAY_1_DNN_Tf.ipynb\" target=\"_parent\"><img src=\"https://colab.research.google.com/assets/colab-badge.svg\" alt=\"Open In Colab\"/></a>"
      ]
    },
    {
      "cell_type": "markdown",
      "metadata": {
        "id": "BFe6WrngnCYx"
      },
      "source": [
        "# MRM-IECSE Workshop\n",
        "## Introduction to DL and CNNs using Tensorflow\n",
        "### Day-1 \n"
      ]
    },
    {
      "cell_type": "markdown",
      "metadata": {
        "id": "tsYlmp4sntkY"
      },
      "source": [
        "## Basics of Neural Network using Tensorflow"
      ]
    },
    {
      "cell_type": "markdown",
      "metadata": {
        "id": "vvowvrsuSb9e"
      },
      "source": [
        "###Importing all important libraries to be used in this tutorial"
      ]
    },
    {
      "cell_type": "markdown",
      "metadata": {
        "id": "uS1etIQ7VtYK"
      },
      "source": [
        "In this Tutorial we will be using Tensorflow. \n",
        "\n",
        "TensorFlow is an open source library for numerical computation and large-scale machine learning. TensorFlow bundles together a slew of machine learning and deep learning models and algorithms and makes them useful by way of a common metaphor. It uses Python to provide a convenient front-end API for building applications with the framework, while executing those applications in high-performance C++."
      ]
    },
    {
      "cell_type": "code",
      "metadata": {
        "id": "T5mD8bNHWJ-Q"
      },
      "source": [
        "import tensorflow as tf"
      ],
      "execution_count": 1,
      "outputs": []
    },
    {
      "cell_type": "markdown",
      "metadata": {
        "id": "vo2mn1LsWN1w"
      },
      "source": [
        "Along with tensorflow we will be using other helper libraries to do other operations/tasks in-order to solve our problem.\n",
        "\n",
        "\n",
        "\n",
        "*   Numpy is used for mathematical operation related to an array\n",
        "*   Matplotlib is used for drawing graphs for representing data\n",
        "\n"
      ]
    },
    {
      "cell_type": "code",
      "metadata": {
        "id": "ET3ikMRLWNEY"
      },
      "source": [
        "import numpy as np\n",
        "import matplotlib.pyplot as plt"
      ],
      "execution_count": 2,
      "outputs": []
    },
    {
      "cell_type": "code",
      "metadata": {
        "id": "e7a1d2ce"
      },
      "source": [
        "from tensorflow import keras\n",
        "from tensorflow.keras import layers,models"
      ],
      "execution_count": 3,
      "outputs": []
    },
    {
      "cell_type": "markdown",
      "metadata": {
        "id": "7mgaMgWHSuJ7"
      },
      "source": [
        "###Downloading and Loading the dataset from keras library\n",
        "We will be downloading dataset directly from the keras repository using keras dataset for this tutorial. \n",
        "\n",
        "We are dividing the dataset into training set and test set\n",
        "\n",
        "Training Set - Used for Training and Evaluation of our model\n",
        "\n",
        "Test Set - Used only for final testing of model's accuracy"
      ]
    },
    {
      "cell_type": "code",
      "metadata": {
        "id": "467b6c47",
        "colab": {
          "base_uri": "https://localhost:8080/"
        },
        "outputId": "cec3c5d5-6538-4c74-f5a9-8a7e2bf38662"
      },
      "source": [
        "(X_train, y_train) , (X_test, y_test) = keras.datasets.mnist.load_data()"
      ],
      "execution_count": 4,
      "outputs": [
        {
          "output_type": "stream",
          "name": "stdout",
          "text": [
            "Downloading data from https://storage.googleapis.com/tensorflow/tf-keras-datasets/mnist.npz\n",
            "11493376/11490434 [==============================] - 0s 0us/step\n",
            "11501568/11490434 [==============================] - 0s 0us/step\n"
          ]
        }
      ]
    },
    {
      "cell_type": "markdown",
      "metadata": {
        "id": "QZ2tMNWGTelL"
      },
      "source": [
        "In a grayscale image the intensity value varies from 0 to 255.\n",
        "\n",
        "But we normalize it between 0 and 1 because it helps the network in learning faster during gradient descent ."
      ]
    },
    {
      "cell_type": "code",
      "metadata": {
        "id": "b7cb8c71"
      },
      "source": [
        "X_train = X_train / 255\n",
        "X_test = X_test / 255"
      ],
      "execution_count": 5,
      "outputs": []
    },
    {
      "cell_type": "code",
      "metadata": {
        "colab": {
          "base_uri": "https://localhost:8080/"
        },
        "id": "pZi0KgWH-Z2-",
        "outputId": "5df8e646-ef60-458b-f8c8-c304910b6e0b"
      },
      "source": [
        "X_train.shape"
      ],
      "execution_count": 6,
      "outputs": [
        {
          "output_type": "execute_result",
          "data": {
            "text/plain": [
              "(60000, 28, 28)"
            ]
          },
          "metadata": {},
          "execution_count": 6
        }
      ]
    },
    {
      "cell_type": "markdown",
      "metadata": {
        "id": "5cnLEy0gZXCJ"
      },
      "source": [
        "Here we reshape the dataset so that we can use it with tf model"
      ]
    },
    {
      "cell_type": "code",
      "metadata": {
        "id": "b231a987"
      },
      "source": [
        "X_train = X_train.reshape(-1,28,28,1)\n",
        "X_test = X_test.reshape(-1,28,28,1)"
      ],
      "execution_count": 7,
      "outputs": []
    },
    {
      "cell_type": "code",
      "metadata": {
        "colab": {
          "base_uri": "https://localhost:8080/"
        },
        "id": "95gp7CWR-fcm",
        "outputId": "4c0f6978-8db9-4478-b349-1126d2d616e2"
      },
      "source": [
        "X_train.shape"
      ],
      "execution_count": 8,
      "outputs": [
        {
          "output_type": "execute_result",
          "data": {
            "text/plain": [
              "(60000, 28, 28, 1)"
            ]
          },
          "metadata": {},
          "execution_count": 8
        }
      ]
    },
    {
      "cell_type": "markdown",
      "metadata": {
        "id": "LsejXu-zZir_"
      },
      "source": [
        "###Building the Neural Network model\n",
        "\n",
        "*   Building the neural network requires configuring the layers of the model, then compiling the model.\n",
        "*   The basic building block of a neural network is the layer.\n",
        "*   Layers extract representations from the data fed into them.\n",
        "*   Most of deep learning in Neural Networks consists of chaining together simple layers. "
      ]
    },
    {
      "cell_type": "markdown",
      "metadata": {
        "id": "zfboM6G2aTQA"
      },
      "source": [
        "Basic Terminology\n",
        "\n",
        "```\n",
        "model = tf.keras.Sequential([____])\n",
        "```\n",
        "\n",
        "*   This command is used for defining a Sequential Model in tf.\n",
        "*   A Sequential Model is a DL model having stack of layers where each layer has exactly one input vector and one output vector.\n",
        "\n",
        "```\n",
        "tf.keras.layers.Flatten(input_shape=(28, 28))\n",
        "```\n",
        "\n",
        "*   The first layer in this network, tf.keras.layers.Flatten, transforms the format of the images from a two-dimensional array (of 28 by 28 pixels) to a one-dimensional array (of 28 * 28 = 784 pixels). \n",
        "*   Think of this layer as unstacking rows of pixels in the image and lining them up as a 1-D vector.\n",
        "*   This layer has no parameters to learn it is used only for reformating the data.\n",
        "\n",
        "```\n",
        "tf.keras.layers.Dense(128, activation='____')\n",
        "```\n",
        "\n",
        "*   After the pixels are flattened, the network consists of a sequence of two tf.keras.layers.Dense layers. \n",
        "*   These are densely connected, or fully connected neural layers basically hidden and output layers which we use in neural network.\n",
        "*   It can have an activation function if required.\n",
        "*   We can define no of neurons in a layer using this."
      ]
    },
    {
      "cell_type": "code",
      "metadata": {
        "id": "879d1df3"
      },
      "source": [
        "model = tf.keras.Sequential([\n",
        "    tf.keras.layers.Flatten(input_shape=(28, 28)),\n",
        "    tf.keras.layers.Dense(128, activation='relu'),\n",
        "    tf.keras.layers.Dense(64, activation='tanh'),\n",
        "    tf.keras.layers.Dense(10)\n",
        "])"
      ],
      "execution_count": 9,
      "outputs": []
    },
    {
      "cell_type": "markdown",
      "metadata": {
        "id": "QYH3LLNRd02Z"
      },
      "source": [
        "####Compile the model\n",
        "\n",
        "\n",
        "\n",
        "\n",
        "\n",
        "```\n",
        "model.compile()\n",
        "```\n",
        "\n",
        "Before the model is ready for training, it needs a few more settings. These are added during the model's compile step.\n",
        "\n",
        "```\n",
        "model.compile(optimizer='___')\n",
        "```\n",
        "\n",
        "Optimizer —This is how the model is updated based on the data it sees and its loss function. Egs- Gradient Descent , Stochastic Gradient Descent and more.\n",
        "\n",
        "\n",
        "\n",
        "```\n",
        "model.compile(loss='___')\n",
        "```\n",
        "\n",
        "Loss function —This measures how accurate the model is during training. You want to minimize this function to \"steer\" the model in the right direction.\n",
        "For our task which is classification we use cross entropy loss function.\n",
        "\n",
        "\n",
        "```\n",
        "model.compile(metrics=['____'])\n",
        "```\n",
        "Metrics —Used to monitor the training and testing steps. The following example uses accuracy, the fraction of the images that are correctly classified.\n"
      ]
    },
    {
      "cell_type": "code",
      "metadata": {
        "id": "4ce7cabb"
      },
      "source": [
        "model.compile(optimizer='SGD',\n",
        "              loss=tf.keras.losses.SparseCategoricalCrossentropy(from_logits=True),\n",
        "              metrics=['accuracy'])"
      ],
      "execution_count": 10,
      "outputs": []
    },
    {
      "cell_type": "markdown",
      "metadata": {
        "id": "uH1hms8fe_Ye"
      },
      "source": [
        "We use the following command to visualize our model."
      ]
    },
    {
      "cell_type": "code",
      "metadata": {
        "colab": {
          "base_uri": "https://localhost:8080/",
          "height": 466
        },
        "id": "Y9FCcbQoXpzg",
        "outputId": "3bc150f1-4c6b-42a0-9374-79978c5902b3"
      },
      "source": [
        "tf.keras.utils.plot_model(model)"
      ],
      "execution_count": 11,
      "outputs": [
        {
          "output_type": "execute_result",
          "data": {
            "image/png": "[encoded data removed]",
            "text/plain": [
              "<IPython.core.display.Image object>"
            ]
          },
          "metadata": {},
          "execution_count": 11
        }
      ]
    },
    {
      "cell_type": "markdown",
      "metadata": {
        "id": "i419jwHnfG-P"
      },
      "source": [
        "###Training the model\n",
        "\n",
        "Training the neural network model requires the following steps:\n",
        "\n",
        "\n",
        "1.   Feed the training data to the model.\n",
        "2.   The model learns to associate images and labels.\n",
        "3.   You ask the model to make predictions about a test set.\n",
        "4.   Verify that the predictions match the labels from the test_labels array.\n"
      ]
    },
    {
      "cell_type": "markdown",
      "metadata": {
        "id": "i4eCn5VMfnje"
      },
      "source": [
        "Feed the model\n",
        "\n",
        "\n",
        "```\n",
        "model.fit(X_train, y_train, epochs=___)\n",
        "```\n",
        "\n",
        "To start training, call the model.fit method—so called because it \"fits\" the model to the training data.\n",
        "\n",
        "X_train = training data\n",
        "\n",
        "y_train = labels of training data\n",
        "\n",
        "epochs = no of times training cycle runs\n",
        "\n",
        "\n",
        "As the model trains, the loss and accuracy metrics are displayed."
      ]
    },
    {
      "cell_type": "code",
      "metadata": {
        "colab": {
          "base_uri": "https://localhost:8080/"
        },
        "id": "cd9fca57",
        "outputId": "c8734bd1-5f92-4fa0-c5ae-a37864a247fa"
      },
      "source": [
        "model.fit(X_train, y_train, epochs=20)"
      ],
      "execution_count": 12,
      "outputs": [
        {
          "output_type": "stream",
          "name": "stdout",
          "text": [
            "Epoch 1/20\n",
            "1875/1875 [==============================] - 5s 2ms/step - loss: 0.6191 - accuracy: 0.8443\n",
            "Epoch 2/20\n",
            "1875/1875 [==============================] - 4s 2ms/step - loss: 0.2992 - accuracy: 0.9170\n",
            "Epoch 3/20\n",
            "1875/1875 [==============================] - 4s 2ms/step - loss: 0.2424 - accuracy: 0.9308\n",
            "Epoch 4/20\n",
            "1875/1875 [==============================] - 4s 2ms/step - loss: 0.2069 - accuracy: 0.9405\n",
            "Epoch 5/20\n",
            "1875/1875 [==============================] - 4s 2ms/step - loss: 0.1810 - accuracy: 0.9478\n",
            "Epoch 6/20\n",
            "1875/1875 [==============================] - 4s 2ms/step - loss: 0.1607 - accuracy: 0.9537\n",
            "Epoch 7/20\n",
            "1875/1875 [==============================] - 4s 2ms/step - loss: 0.1448 - accuracy: 0.9588\n",
            "Epoch 8/20\n",
            "1875/1875 [==============================] - 4s 2ms/step - loss: 0.1319 - accuracy: 0.9619\n",
            "Epoch 9/20\n",
            "1875/1875 [==============================] - 4s 2ms/step - loss: 0.1205 - accuracy: 0.9650\n",
            "Epoch 10/20\n",
            "1875/1875 [==============================] - 4s 2ms/step - loss: 0.1110 - accuracy: 0.9677\n",
            "Epoch 11/20\n",
            "1875/1875 [==============================] - 4s 2ms/step - loss: 0.1025 - accuracy: 0.9702\n",
            "Epoch 12/20\n",
            "1875/1875 [==============================] - 4s 2ms/step - loss: 0.0954 - accuracy: 0.9724\n",
            "Epoch 13/20\n",
            "1875/1875 [==============================] - 4s 2ms/step - loss: 0.0891 - accuracy: 0.9748\n",
            "Epoch 14/20\n",
            "1875/1875 [==============================] - 4s 2ms/step - loss: 0.0834 - accuracy: 0.9766\n",
            "Epoch 15/20\n",
            "1875/1875 [==============================] - 4s 2ms/step - loss: 0.0785 - accuracy: 0.9777\n",
            "Epoch 16/20\n",
            "1875/1875 [==============================] - 4s 2ms/step - loss: 0.0736 - accuracy: 0.9797\n",
            "Epoch 17/20\n",
            "1875/1875 [==============================] - 4s 2ms/step - loss: 0.0695 - accuracy: 0.9806\n",
            "Epoch 18/20\n",
            "1875/1875 [==============================] - 4s 2ms/step - loss: 0.0656 - accuracy: 0.9818\n",
            "Epoch 19/20\n",
            "1875/1875 [==============================] - 4s 2ms/step - loss: 0.0621 - accuracy: 0.9828\n",
            "Epoch 20/20\n",
            "1875/1875 [==============================] - 3s 2ms/step - loss: 0.0588 - accuracy: 0.9840\n"
          ]
        },
        {
          "output_type": "execute_result",
          "data": {
            "text/plain": [
              "<keras.callbacks.History at 0x7fb9dbf15dd0>"
            ]
          },
          "metadata": {},
          "execution_count": 12
        }
      ]
    },
    {
      "cell_type": "markdown",
      "metadata": {
        "id": "NO8-FEpVgNDF"
      },
      "source": [
        "####Evaluate accuracy\n",
        "\n",
        "```\n",
        "model.evaluate(X_test,y_test)\n",
        "```\n",
        "\n",
        "Next, compare how the model performs on the test dataset."
      ]
    },
    {
      "cell_type": "code",
      "metadata": {
        "colab": {
          "base_uri": "https://localhost:8080/"
        },
        "id": "ebf78675",
        "outputId": "51c1353f-e654-4024-d4a3-15d2bc0d0e51"
      },
      "source": [
        "test_loss, test_acc = model.evaluate(X_test,y_test)\n",
        "\n",
        "print('\\nTest accuracy:', test_acc)"
      ],
      "execution_count": 13,
      "outputs": [
        {
          "output_type": "stream",
          "name": "stdout",
          "text": [
            "313/313 [==============================] - 1s 1ms/step - loss: 0.0859 - accuracy: 0.9731\n",
            "\n",
            "Test accuracy: 0.9731000065803528\n"
          ]
        }
      ]
    },
    {
      "cell_type": "markdown",
      "metadata": {
        "id": "JHJA42NBgUlW"
      },
      "source": [
        "####Make predictions\n",
        "\n",
        "With the model trained, you can use it to make predictions about some images. \n",
        "\n",
        "```\n",
        "tf.keras.Sequential([model,tf.keras.layers.Softmax()])\n",
        "```\n",
        "\n",
        "The model's linear outputs, logits.\n",
        "\n",
        "We attach a softmax layer to convert the logits to probabilities, which are easier to interpret."
      ]
    },
    {
      "cell_type": "code",
      "metadata": {
        "id": "e5a75581"
      },
      "source": [
        "probability_model = tf.keras.Sequential([model,tf.keras.layers.Softmax()])"
      ],
      "execution_count": 14,
      "outputs": []
    },
    {
      "cell_type": "code",
      "metadata": {
        "id": "19f1a648"
      },
      "source": [
        "predictions = probability_model.predict(X_test)"
      ],
      "execution_count": 15,
      "outputs": []
    },
    {
      "cell_type": "markdown",
      "metadata": {
        "id": "YnA58fIpgrr2"
      },
      "source": [
        "Here, the model has predicted the label for a image in the testing set."
      ]
    },
    {
      "cell_type": "code",
      "metadata": {
        "colab": {
          "base_uri": "https://localhost:8080/"
        },
        "id": "ddeff728",
        "outputId": "0e45086c-3222-4f3a-e02a-d463f6295cc2"
      },
      "source": [
        "predictions[0]"
      ],
      "execution_count": 16,
      "outputs": [
        {
          "output_type": "execute_result",
          "data": {
            "text/plain": [
              "array([5.4433481e-06, 3.6108559e-05, 3.0565969e-04, 7.7682425e-04,\n",
              "       1.7638551e-07, 2.2220291e-05, 2.9876364e-08, 9.9875379e-01,\n",
              "       4.0542000e-05, 5.9125290e-05], dtype=float32)"
            ]
          },
          "metadata": {},
          "execution_count": 16
        }
      ]
    },
    {
      "cell_type": "markdown",
      "metadata": {
        "id": "BIW20bu4g0PF"
      },
      "source": [
        "A prediction is an array of 10 numbers. \n",
        "\n",
        "They represent the model's \"confidence\" that the image corresponds to each of the 10 different digits of number. \n",
        "\n",
        "You can see which label has the highest confidence value:"
      ]
    },
    {
      "cell_type": "markdown",
      "metadata": {
        "id": "n1Orn2Ccg-1n"
      },
      "source": [
        "**Actual label**"
      ]
    },
    {
      "cell_type": "code",
      "metadata": {
        "colab": {
          "base_uri": "https://localhost:8080/"
        },
        "id": "4adef988",
        "outputId": "1931e07e-7acf-454a-f080-dc0f3ea76bae"
      },
      "source": [
        "y_test[0]"
      ],
      "execution_count": 17,
      "outputs": [
        {
          "output_type": "execute_result",
          "data": {
            "text/plain": [
              "7"
            ]
          },
          "metadata": {},
          "execution_count": 17
        }
      ]
    },
    {
      "cell_type": "markdown",
      "metadata": {
        "id": "KIs5q48chDVu"
      },
      "source": [
        "**Predicted Value**"
      ]
    },
    {
      "cell_type": "code",
      "metadata": {
        "colab": {
          "base_uri": "https://localhost:8080/"
        },
        "id": "49e00458",
        "outputId": "65c497b2-beff-4b94-9ca3-80f309ebb0ae"
      },
      "source": [
        "np.argmax(predictions[0])"
      ],
      "execution_count": 18,
      "outputs": [
        {
          "output_type": "execute_result",
          "data": {
            "text/plain": [
              "7"
            ]
          },
          "metadata": {},
          "execution_count": 18
        }
      ]
    },
    {
      "cell_type": "code",
      "metadata": {
        "id": "86bdab54"
      },
      "source": [
        "class_names = ['0','1','2','3','4','5','6','7','8','9']"
      ],
      "execution_count": 19,
      "outputs": []
    },
    {
      "cell_type": "code",
      "metadata": {
        "id": "1b7992c5"
      },
      "source": [
        "def plot_image(i, predictions_array, true_label, img):\n",
        "    true_label, img = true_label[i], img[i]\n",
        "    plt.grid(False)\n",
        "    plt.xticks([])\n",
        "    plt.yticks([])\n",
        "\n",
        "    plt.imshow(img, cmap=plt.cm.binary)\n",
        "\n",
        "    predicted_label = np.argmax(predictions_array)\n",
        "    if predicted_label == true_label:\n",
        "        color = 'blue'\n",
        "    else:\n",
        "        color = 'red'\n",
        "\n",
        "    plt.xlabel(\"{} {:2.0f}% ({})\".format(class_names[predicted_label],\n",
        "                                100*np.max(predictions_array),\n",
        "                                class_names[true_label]),\n",
        "                                color=color)\n",
        "\n",
        "def plot_value_array(i, predictions_array, true_label):\n",
        "    true_label = true_label[i]\n",
        "    plt.grid(False)\n",
        "    plt.xticks(range(10))\n",
        "    plt.yticks([])\n",
        "    thisplot = plt.bar(range(10), predictions_array, color=\"#777777\")\n",
        "    plt.ylim([0, 1])\n",
        "    predicted_label = np.argmax(predictions_array)\n",
        "\n",
        "    thisplot[predicted_label].set_color('red')\n",
        "    thisplot[true_label].set_color('blue')"
      ],
      "execution_count": 20,
      "outputs": []
    },
    {
      "cell_type": "markdown",
      "metadata": {
        "id": "gHB16V0_58ei"
      },
      "source": [
        "####Lets see some more predictions made by model"
      ]
    },
    {
      "cell_type": "code",
      "metadata": {
        "colab": {
          "base_uri": "https://localhost:8080/",
          "height": 211
        },
        "id": "1f7dd339",
        "outputId": "82f7e2d0-35ad-40a9-9464-f402daef1b29"
      },
      "source": [
        "i = 0\n",
        "plt.figure(figsize=(6,3))\n",
        "plt.subplot(1,2,1)\n",
        "plot_image(i, predictions[i], y_test, X_test.reshape(-1,28,28))\n",
        "plt.subplot(1,2,2)\n",
        "plot_value_array(i, predictions[i],  y_test)\n",
        "plt.show()"
      ],
      "execution_count": 21,
      "outputs": [
        {
          "output_type": "display_data",
          "data": {
            "image/png": "[encoded data removed]",
            "text/plain": [
              "<Figure size 432x216 with 2 Axes>"
            ]
          },
          "metadata": {
            "needs_background": "light"
          }
        }
      ]
    },
    {
      "cell_type": "code",
      "metadata": {
        "colab": {
          "base_uri": "https://localhost:8080/",
          "height": 211
        },
        "id": "becb484b",
        "outputId": "e57d917b-a217-4195-c130-602eff75ec9c"
      },
      "source": [
        "i = 12\n",
        "plt.figure(figsize=(6,3))\n",
        "plt.subplot(1,2,1)\n",
        "plot_image(i, predictions[i],  y_test, X_test.reshape(-1,28,28))\n",
        "plt.subplot(1,2,2)\n",
        "plot_value_array(i, predictions[i],  y_test)\n",
        "plt.show()"
      ],
      "execution_count": 22,
      "outputs": [
        {
          "output_type": "display_data",
          "data": {
            "image/png": "[encoded data removed]",
            "text/plain": [
              "<Figure size 432x216 with 2 Axes>"
            ]
          },
          "metadata": {
            "needs_background": "light"
          }
        }
      ]
    },
    {
      "cell_type": "code",
      "metadata": {
        "colab": {
          "base_uri": "https://localhost:8080/",
          "height": 729
        },
        "id": "2526ef4c",
        "outputId": "789fa36e-1f01-4ed1-bd71-a73381846568"
      },
      "source": [
        "# Plot the first X test images, their predicted labels, and the true labels.\n",
        "# Color correct predictions in blue and incorrect predictions in red.\n",
        "num_rows = 5\n",
        "num_cols = 3\n",
        "num_images = num_rows*num_cols\n",
        "plt.figure(figsize=(2*2*num_cols, 2*num_rows))\n",
        "for i in range(num_images):\n",
        "  plt.subplot(num_rows, 2*num_cols, 2*i+1)\n",
        "  plot_image(i, predictions[i], y_test, X_test.reshape(-1,28,28))\n",
        "  plt.subplot(num_rows, 2*num_cols, 2*i+2)\n",
        "  plot_value_array(i, predictions[i], y_test)\n",
        "plt.tight_layout()\n",
        "plt.show()"
      ],
      "execution_count": 23,
      "outputs": [
        {
          "output_type": "display_data",
          "data": {
            "image/png": "[encoded data removed]",
            "text/plain": [
              "<Figure size 864x720 with 30 Axes>"
            ]
          },
          "metadata": {
            "needs_background": "light"
          }
        }
      ]
    },
    {
      "cell_type": "code",
      "metadata": {
        "id": "yqS_hzP5-ndx"
      },
      "source": [
        ""
      ],
      "execution_count": 23,
      "outputs": []
    }
  ]
}